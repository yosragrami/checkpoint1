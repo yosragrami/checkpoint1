{
 "cells": [
  {
   "cell_type": "code",
   "execution_count": 9,
   "id": "2b6a3744-fa3b-4257-b635-b8a65d7d14ea",
   "metadata": {},
   "outputs": [
    {
     "name": "stdout",
     "output_type": "stream",
     "text": [
      "Grami yosra\n"
     ]
    }
   ],
   "source": [
    "str1= \"yosra\"\n",
    "str2= \"Grami\"\n",
    "print (str2+\" \"+str1)"
   ]
  },
  {
   "cell_type": "code",
   "execution_count": 10,
   "id": "9be3adef-7438-46cb-bd8a-ffaee76cab53",
   "metadata": {},
   "outputs": [
    {
     "name": "stdout",
     "output_type": "stream",
     "text": [
      "984\n"
     ]
    }
   ],
   "source": [
    "a =8\n",
    "num=(a+ ((a*10)+a) + ((a*100)+(a*10)+a)) \n",
    "print (num)"
   ]
  },
  {
   "cell_type": "code",
   "execution_count": 11,
   "id": "2c0e8ce8-5805-4a97-8900-1a2b27e88f71",
   "metadata": {},
   "outputs": [
    {
     "name": "stdout",
     "output_type": "stream",
     "text": [
      "impair\n"
     ]
    }
   ],
   "source": [
    "a=151\n",
    "if a%2==0:\n",
    "    print (\"pair\")\n",
    "else:\n",
    "    print(\"impair\")"
   ]
  },
  {
   "cell_type": "code",
   "execution_count": 12,
   "id": "36ee3cf1-2dee-4293-9f56-427d76d89c51",
   "metadata": {},
   "outputs": [
    {
     "name": "stdout",
     "output_type": "stream",
     "text": [
      "2002 2009 2016 2023 2037 2044 2051 2058 2072 2079 2086 2093 2107 2114 2121 2128 2142 2149 2156 2163 2177 2184 2191 2198 2212 2219 2226 2233 2247 2254 2261 2268 2282 2289 2296 2303 2317 2324 2331 2338 2352 2359 2366 2373 2387 2394 2401 2408 2422 2429 2436 2443 2457 2464 2471 2478 2492 2499 2506 2513 2527 2534 2541 2548 2562 2569 2576 2583 2597 2604 2611 2618 2632 2639 2646 2653 2667 2674 2681 2688 2702 2709 2716 2723 2737 2744 2751 2758 2772 2779 2786 2793 2807 2814 2821 2828 2842 2849 2856 2863 2877 2884 2891 2898 2912 2919 2926 2933 2947 2954 2961 2968 2982 2989 2996 3003 3017 3024 3031 3038 3052 3059 3066 3073 3087 3094 3101 3108 3122 3129 3136 3143 3157 3164 3171 3178 3192 3199 "
     ]
    }
   ],
   "source": [
    "for i in range (2000, 3201):\n",
    " if (i%7==0) and (i%5!=0):\n",
    "    print (i, end=' ')"
   ]
  },
  {
   "cell_type": "code",
   "execution_count": 15,
   "id": "0ffe25ee-1e91-41eb-976e-ec5c2c9839d3",
   "metadata": {},
   "outputs": [
    {
     "name": "stdout",
     "output_type": "stream",
     "text": [
      "1 2 6 24 120 720 5040 40320 "
     ]
    }
   ],
   "source": [
    "num=8\n",
    "factorial=1\n",
    "for i in range (1,9):\n",
    "    factorial=factorial*i\n",
    "    print (factorial, end=' ')"
   ]
  },
  {
   "cell_type": "code",
   "execution_count": 16,
   "id": "d03a254c-62c9-4071-8583-7d9e1af1dcac",
   "metadata": {},
   "outputs": [
    {
     "name": "stdout",
     "output_type": "stream",
     "text": [
      "dt cec\n"
     ]
    }
   ],
   "source": [
    "str1=\"data science\"\n",
    "str2=''\n",
    "for i in range (len(str1)):\n",
    " if i%2==0:\n",
    "    str2 = str2+str1[i]\n",
    "print (str2)"
   ]
  },
  {
   "cell_type": "code",
   "execution_count": 23,
   "id": "13133484-382d-4fa1-89c6-7858ee7d6f42",
   "metadata": {},
   "outputs": [
    {
     "name": "stdout",
     "output_type": "stream",
     "text": [
      "315.0\n"
     ]
    }
   ],
   "source": [
    "p_initial=450\n",
    "if p_initial>=500:\n",
    "    t==50\n",
    "if 200<p_initial<500:\n",
    "    t=30\n",
    "if p_initial<=200:\n",
    "    t=10\n",
    "p_remise= p_initial*(1-(t/100))\n",
    "print (p_remise)"
   ]
  },
  {
   "cell_type": "code",
   "execution_count": null,
   "id": "08586e10-ff77-4bd0-8560-507fbaf47f40",
   "metadata": {},
   "outputs": [],
   "source": []
  }
 ],
 "metadata": {
  "kernelspec": {
   "display_name": "Python 3 (ipykernel)",
   "language": "python",
   "name": "python3"
  },
  "language_info": {
   "codemirror_mode": {
    "name": "ipython",
    "version": 3
   },
   "file_extension": ".py",
   "mimetype": "text/x-python",
   "name": "python",
   "nbconvert_exporter": "python",
   "pygments_lexer": "ipython3",
   "version": "3.9.7"
  }
 },
 "nbformat": 4,
 "nbformat_minor": 5
}
